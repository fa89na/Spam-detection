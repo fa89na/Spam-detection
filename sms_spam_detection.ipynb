{
  "nbformat": 4,
  "nbformat_minor": 0,
  "metadata": {
    "kernelspec": {
      "language": "python",
      "display_name": "Python 3",
      "name": "python3"
    },
    "language_info": {
      "name": "python",
      "version": "3.7.10",
      "mimetype": "text/x-python",
      "codemirror_mode": {
        "name": "ipython",
        "version": 3
      },
      "pygments_lexer": "ipython3",
      "nbconvert_exporter": "python",
      "file_extension": ".py"
    },
    "colab": {
      "name": "sms spam detection.ipynb",
      "provenance": [],
      "collapsed_sections": []
    }
  },
  "cells": [
    {
      "cell_type": "code",
      "metadata": {
        "execution": {
          "iopub.status.busy": "2021-07-22T14:16:09.319586Z",
          "iopub.execute_input": "2021-07-22T14:16:09.320234Z",
          "iopub.status.idle": "2021-07-22T14:16:10.619547Z",
          "shell.execute_reply.started": "2021-07-22T14:16:09.320123Z",
          "shell.execute_reply": "2021-07-22T14:16:10.618470Z"
        },
        "trusted": true,
        "id": "NsSwKWcCpX7V"
      },
      "source": [
        "from sklearn.ensemble import GradientBoostingClassifier\n",
        "from sklearn.metrics import confusion_matrix\n",
        "from sklearn.metrics import precision_recall_fscore_support as score\n",
        "import numpy as np \n",
        "import pandas as pd \n",
        "import os\n",
        "import seaborn as sns\n",
        "import matplotlib.pyplot as plt\n"
      ],
      "execution_count": null,
      "outputs": []
    },
    {
      "cell_type": "code",
      "metadata": {
        "execution": {
          "iopub.status.busy": "2021-07-22T14:16:11.678894Z",
          "iopub.execute_input": "2021-07-22T14:16:11.679297Z",
          "iopub.status.idle": "2021-07-22T14:16:11.734940Z",
          "shell.execute_reply.started": "2021-07-22T14:16:11.679264Z",
          "shell.execute_reply": "2021-07-22T14:16:11.734004Z"
        },
        "trusted": true,
        "id": "S9uA6qOkpX7W"
      },
      "source": [
        "sms = pd.read_csv('data/sms-spam-collection-dataset/spam.csv',encoding='latin-1')"
      ],
      "execution_count": null,
      "outputs": []
    },
    {
      "cell_type": "code",
      "metadata": {
        "execution": {
          "iopub.status.busy": "2021-07-22T14:16:14.291118Z",
          "iopub.execute_input": "2021-07-22T14:16:14.291524Z",
          "iopub.status.idle": "2021-07-22T14:16:14.317682Z",
          "shell.execute_reply.started": "2021-07-22T14:16:14.291495Z",
          "shell.execute_reply": "2021-07-22T14:16:14.316868Z"
        },
        "trusted": true,
        "id": "DWCuIJpKpX7X",
        "outputId": "a5f41a63-9511-4eaa-892c-4ed9e31acb7b"
      },
      "source": [
        "sms.head()"
      ],
      "execution_count": null,
      "outputs": [
        {
          "output_type": "execute_result",
          "data": {
            "text/plain": [
              "     v1                                                 v2 Unnamed: 2  \\\n",
              "0   ham  Go until jurong point, crazy.. Available only ...        NaN   \n",
              "1   ham                      Ok lar... Joking wif u oni...        NaN   \n",
              "2  spam  Free entry in 2 a wkly comp to win FA Cup fina...        NaN   \n",
              "3   ham  U dun say so early hor... U c already then say...        NaN   \n",
              "4   ham  Nah I don't think he goes to usf, he lives aro...        NaN   \n",
              "\n",
              "  Unnamed: 3 Unnamed: 4  \n",
              "0        NaN        NaN  \n",
              "1        NaN        NaN  \n",
              "2        NaN        NaN  \n",
              "3        NaN        NaN  \n",
              "4        NaN        NaN  "
            ],
            "text/html": [
              "<div>\n",
              "<style scoped>\n",
              "    .dataframe tbody tr th:only-of-type {\n",
              "        vertical-align: middle;\n",
              "    }\n",
              "\n",
              "    .dataframe tbody tr th {\n",
              "        vertical-align: top;\n",
              "    }\n",
              "\n",
              "    .dataframe thead th {\n",
              "        text-align: right;\n",
              "    }\n",
              "</style>\n",
              "<table border=\"1\" class=\"dataframe\">\n",
              "  <thead>\n",
              "    <tr style=\"text-align: right;\">\n",
              "      <th></th>\n",
              "      <th>v1</th>\n",
              "      <th>v2</th>\n",
              "      <th>Unnamed: 2</th>\n",
              "      <th>Unnamed: 3</th>\n",
              "      <th>Unnamed: 4</th>\n",
              "    </tr>\n",
              "  </thead>\n",
              "  <tbody>\n",
              "    <tr>\n",
              "      <th>0</th>\n",
              "      <td>ham</td>\n",
              "      <td>Go until jurong point, crazy.. Available only ...</td>\n",
              "      <td>NaN</td>\n",
              "      <td>NaN</td>\n",
              "      <td>NaN</td>\n",
              "    </tr>\n",
              "    <tr>\n",
              "      <th>1</th>\n",
              "      <td>ham</td>\n",
              "      <td>Ok lar... Joking wif u oni...</td>\n",
              "      <td>NaN</td>\n",
              "      <td>NaN</td>\n",
              "      <td>NaN</td>\n",
              "    </tr>\n",
              "    <tr>\n",
              "      <th>2</th>\n",
              "      <td>spam</td>\n",
              "      <td>Free entry in 2 a wkly comp to win FA Cup fina...</td>\n",
              "      <td>NaN</td>\n",
              "      <td>NaN</td>\n",
              "      <td>NaN</td>\n",
              "    </tr>\n",
              "    <tr>\n",
              "      <th>3</th>\n",
              "      <td>ham</td>\n",
              "      <td>U dun say so early hor... U c already then say...</td>\n",
              "      <td>NaN</td>\n",
              "      <td>NaN</td>\n",
              "      <td>NaN</td>\n",
              "    </tr>\n",
              "    <tr>\n",
              "      <th>4</th>\n",
              "      <td>ham</td>\n",
              "      <td>Nah I don't think he goes to usf, he lives aro...</td>\n",
              "      <td>NaN</td>\n",
              "      <td>NaN</td>\n",
              "      <td>NaN</td>\n",
              "    </tr>\n",
              "  </tbody>\n",
              "</table>\n",
              "</div>"
            ]
          },
          "metadata": {
            "tags": []
          },
          "execution_count": 3
        }
      ]
    },
    {
      "cell_type": "code",
      "metadata": {
        "execution": {
          "iopub.status.busy": "2021-07-22T14:16:15.952843Z",
          "iopub.execute_input": "2021-07-22T14:16:15.953401Z",
          "iopub.status.idle": "2021-07-22T14:16:15.958650Z",
          "shell.execute_reply.started": "2021-07-22T14:16:15.953354Z",
          "shell.execute_reply": "2021-07-22T14:16:15.957925Z"
        },
        "trusted": true,
        "id": "RD7KqcJ0pX7c",
        "outputId": "0e13d85c-db12-4c77-db3f-248c2de38773"
      },
      "source": [
        "sms.columns"
      ],
      "execution_count": null,
      "outputs": [
        {
          "output_type": "execute_result",
          "data": {
            "text/plain": [
              "Index(['v1', 'v2', 'Unnamed: 2', 'Unnamed: 3', 'Unnamed: 4'], dtype='object')"
            ]
          },
          "metadata": {
            "tags": []
          },
          "execution_count": 4
        }
      ]
    },
    {
      "cell_type": "code",
      "metadata": {
        "execution": {
          "iopub.status.busy": "2021-07-22T14:16:16.780748Z",
          "iopub.execute_input": "2021-07-22T14:16:16.781333Z",
          "iopub.status.idle": "2021-07-22T14:16:16.789357Z",
          "shell.execute_reply.started": "2021-07-22T14:16:16.781299Z",
          "shell.execute_reply": "2021-07-22T14:16:16.788351Z"
        },
        "trusted": true,
        "id": "wgxztlpapX7f"
      },
      "source": [
        "sms.drop(['Unnamed: 2', 'Unnamed: 3', 'Unnamed: 4'],axis = 1,inplace=True)"
      ],
      "execution_count": null,
      "outputs": []
    },
    {
      "cell_type": "code",
      "metadata": {
        "execution": {
          "iopub.status.busy": "2021-07-22T14:16:18.626663Z",
          "iopub.execute_input": "2021-07-22T14:16:18.627107Z",
          "iopub.status.idle": "2021-07-22T14:16:18.637978Z",
          "shell.execute_reply.started": "2021-07-22T14:16:18.627072Z",
          "shell.execute_reply": "2021-07-22T14:16:18.636563Z"
        },
        "trusted": true,
        "id": "eQO17piWpX7h",
        "outputId": "dfc90ac0-f025-44e2-c033-174f64a05af9"
      },
      "source": [
        "sms.columns = ['label','message']\n",
        "\n",
        "sms.head()"
      ],
      "execution_count": null,
      "outputs": [
        {
          "output_type": "execute_result",
          "data": {
            "text/plain": [
              "  label                                            message\n",
              "0   ham  Go until jurong point, crazy.. Available only ...\n",
              "1   ham                      Ok lar... Joking wif u oni...\n",
              "2  spam  Free entry in 2 a wkly comp to win FA Cup fina...\n",
              "3   ham  U dun say so early hor... U c already then say...\n",
              "4   ham  Nah I don't think he goes to usf, he lives aro..."
            ],
            "text/html": [
              "<div>\n",
              "<style scoped>\n",
              "    .dataframe tbody tr th:only-of-type {\n",
              "        vertical-align: middle;\n",
              "    }\n",
              "\n",
              "    .dataframe tbody tr th {\n",
              "        vertical-align: top;\n",
              "    }\n",
              "\n",
              "    .dataframe thead th {\n",
              "        text-align: right;\n",
              "    }\n",
              "</style>\n",
              "<table border=\"1\" class=\"dataframe\">\n",
              "  <thead>\n",
              "    <tr style=\"text-align: right;\">\n",
              "      <th></th>\n",
              "      <th>label</th>\n",
              "      <th>message</th>\n",
              "    </tr>\n",
              "  </thead>\n",
              "  <tbody>\n",
              "    <tr>\n",
              "      <th>0</th>\n",
              "      <td>ham</td>\n",
              "      <td>Go until jurong point, crazy.. Available only ...</td>\n",
              "    </tr>\n",
              "    <tr>\n",
              "      <th>1</th>\n",
              "      <td>ham</td>\n",
              "      <td>Ok lar... Joking wif u oni...</td>\n",
              "    </tr>\n",
              "    <tr>\n",
              "      <th>2</th>\n",
              "      <td>spam</td>\n",
              "      <td>Free entry in 2 a wkly comp to win FA Cup fina...</td>\n",
              "    </tr>\n",
              "    <tr>\n",
              "      <th>3</th>\n",
              "      <td>ham</td>\n",
              "      <td>U dun say so early hor... U c already then say...</td>\n",
              "    </tr>\n",
              "    <tr>\n",
              "      <th>4</th>\n",
              "      <td>ham</td>\n",
              "      <td>Nah I don't think he goes to usf, he lives aro...</td>\n",
              "    </tr>\n",
              "  </tbody>\n",
              "</table>\n",
              "</div>"
            ]
          },
          "metadata": {
            "tags": []
          },
          "execution_count": 6
        }
      ]
    },
    {
      "cell_type": "code",
      "metadata": {
        "execution": {
          "iopub.status.busy": "2021-07-22T14:16:20.419832Z",
          "iopub.execute_input": "2021-07-22T14:16:20.420193Z",
          "iopub.status.idle": "2021-07-22T14:16:20.428152Z",
          "shell.execute_reply.started": "2021-07-22T14:16:20.420159Z",
          "shell.execute_reply": "2021-07-22T14:16:20.427449Z"
        },
        "trusted": true,
        "id": "viQoj9tApX7i",
        "outputId": "3b36c460-1028-467e-e88a-624d3f02c15d"
      },
      "source": [
        "sms.isnull().sum()"
      ],
      "execution_count": null,
      "outputs": [
        {
          "output_type": "execute_result",
          "data": {
            "text/plain": [
              "label      0\n",
              "message    0\n",
              "dtype: int64"
            ]
          },
          "metadata": {
            "tags": []
          },
          "execution_count": 7
        }
      ]
    },
    {
      "cell_type": "markdown",
      "metadata": {
        "id": "emmL_XQOpX7k"
      },
      "source": [
        "There are no null values present in the data"
      ]
    },
    {
      "cell_type": "code",
      "metadata": {
        "execution": {
          "iopub.status.busy": "2021-07-22T14:16:22.183676Z",
          "iopub.execute_input": "2021-07-22T14:16:22.184219Z",
          "iopub.status.idle": "2021-07-22T14:16:22.198996Z",
          "shell.execute_reply.started": "2021-07-22T14:16:22.184189Z",
          "shell.execute_reply": "2021-07-22T14:16:22.197841Z"
        },
        "trusted": true,
        "id": "57t3Y7dwpX7l",
        "outputId": "b0c0bf64-7a41-402a-c668-01e8135d9553"
      },
      "source": [
        "\n",
        "empty = []\n",
        "\n",
        "for i,label,msg in sms.itertuples():\n",
        "    if type(sms)==str:\n",
        "        if sms.isspace():\n",
        "            empty.append(i)\n",
        "\n",
        "print(f\"There are {len(empty)} empty string as message\")"
      ],
      "execution_count": null,
      "outputs": [
        {
          "output_type": "stream",
          "text": [
            "There are 0 empty string as message\n"
          ],
          "name": "stdout"
        }
      ]
    },
    {
      "cell_type": "code",
      "metadata": {
        "execution": {
          "iopub.status.busy": "2021-07-22T14:16:23.204617Z",
          "iopub.execute_input": "2021-07-22T14:16:23.205028Z",
          "iopub.status.idle": "2021-07-22T14:16:23.365874Z",
          "shell.execute_reply.started": "2021-07-22T14:16:23.204993Z",
          "shell.execute_reply": "2021-07-22T14:16:23.364866Z"
        },
        "trusted": true,
        "id": "8EglldvkpX7m",
        "outputId": "5e601796-e227-4ba6-ffdd-c9a5b2cfab34"
      },
      "source": [
        "print(sms['label'].value_counts())\n",
        "print('\\n')\n",
        "sns.countplot(x='label',data=sms)"
      ],
      "execution_count": null,
      "outputs": [
        {
          "output_type": "stream",
          "text": [
            "ham     4825\n",
            "spam     747\n",
            "Name: label, dtype: int64\n",
            "\n",
            "\n"
          ],
          "name": "stdout"
        },
        {
          "output_type": "execute_result",
          "data": {
            "text/plain": [
              "<AxesSubplot:xlabel='label', ylabel='count'>"
            ]
          },
          "metadata": {
            "tags": []
          },
          "execution_count": 9
        },
        {
          "output_type": "display_data",
          "data": {
            "text/plain": [
              "<Figure size 432x288 with 1 Axes>"
            ],
            "image/png": "[encoded data removed]"
          },
          "metadata": {
            "tags": [],
            "needs_background": "light"
          }
        }
      ]
    },
    {
      "cell_type": "code",
      "metadata": {
        "execution": {
          "iopub.status.busy": "2021-07-22T14:16:27.488758Z",
          "iopub.execute_input": "2021-07-22T14:16:27.489148Z",
          "iopub.status.idle": "2021-07-22T14:16:27.504741Z",
          "shell.execute_reply.started": "2021-07-22T14:16:27.489117Z",
          "shell.execute_reply": "2021-07-22T14:16:27.503630Z"
        },
        "trusted": true,
        "id": "obaCa-aLpX7n",
        "outputId": "e0562252-5153-478e-b18f-42705884d7e6"
      },
      "source": [
        "sms['length'] = sms['message'].apply(len)\n",
        "sms.head()"
      ],
      "execution_count": null,
      "outputs": [
        {
          "output_type": "execute_result",
          "data": {
            "text/plain": [
              "  label                                            message  length\n",
              "0   ham  Go until jurong point, crazy.. Available only ...     111\n",
              "1   ham                      Ok lar... Joking wif u oni...      29\n",
              "2  spam  Free entry in 2 a wkly comp to win FA Cup fina...     155\n",
              "3   ham  U dun say so early hor... U c already then say...      49\n",
              "4   ham  Nah I don't think he goes to usf, he lives aro...      61"
            ],
            "text/html": [
              "<div>\n",
              "<style scoped>\n",
              "    .dataframe tbody tr th:only-of-type {\n",
              "        vertical-align: middle;\n",
              "    }\n",
              "\n",
              "    .dataframe tbody tr th {\n",
              "        vertical-align: top;\n",
              "    }\n",
              "\n",
              "    .dataframe thead th {\n",
              "        text-align: right;\n",
              "    }\n",
              "</style>\n",
              "<table border=\"1\" class=\"dataframe\">\n",
              "  <thead>\n",
              "    <tr style=\"text-align: right;\">\n",
              "      <th></th>\n",
              "      <th>label</th>\n",
              "      <th>message</th>\n",
              "      <th>length</th>\n",
              "    </tr>\n",
              "  </thead>\n",
              "  <tbody>\n",
              "    <tr>\n",
              "      <th>0</th>\n",
              "      <td>ham</td>\n",
              "      <td>Go until jurong point, crazy.. Available only ...</td>\n",
              "      <td>111</td>\n",
              "    </tr>\n",
              "    <tr>\n",
              "      <th>1</th>\n",
              "      <td>ham</td>\n",
              "      <td>Ok lar... Joking wif u oni...</td>\n",
              "      <td>29</td>\n",
              "    </tr>\n",
              "    <tr>\n",
              "      <th>2</th>\n",
              "      <td>spam</td>\n",
              "      <td>Free entry in 2 a wkly comp to win FA Cup fina...</td>\n",
              "      <td>155</td>\n",
              "    </tr>\n",
              "    <tr>\n",
              "      <th>3</th>\n",
              "      <td>ham</td>\n",
              "      <td>U dun say so early hor... U c already then say...</td>\n",
              "      <td>49</td>\n",
              "    </tr>\n",
              "    <tr>\n",
              "      <th>4</th>\n",
              "      <td>ham</td>\n",
              "      <td>Nah I don't think he goes to usf, he lives aro...</td>\n",
              "      <td>61</td>\n",
              "    </tr>\n",
              "  </tbody>\n",
              "</table>\n",
              "</div>"
            ]
          },
          "metadata": {
            "tags": []
          },
          "execution_count": 10
        }
      ]
    },
    {
      "cell_type": "code",
      "metadata": {
        "execution": {
          "iopub.status.busy": "2021-07-22T14:16:30.008221Z",
          "iopub.execute_input": "2021-07-22T14:16:30.008599Z",
          "iopub.status.idle": "2021-07-22T14:16:31.019817Z",
          "shell.execute_reply.started": "2021-07-22T14:16:30.008568Z",
          "shell.execute_reply": "2021-07-22T14:16:31.019101Z"
        },
        "trusted": true,
        "id": "evpM5CrRpX7o",
        "outputId": "c537886a-8459-4a5c-f0a9-0cc2c1af6047"
      },
      "source": [
        "plt.xscale('log')\n",
        "bins= 1.16**np.arange(1,50)\n",
        "\n",
        "sms[sms['label']=='ham']['length'].plot(kind='hist',bins=bins,alpha=0.8)\n",
        "sms[sms['label']=='spam']['length'].plot(kind='hist',bins=bins,alpha=0.8)\n",
        "\n",
        "plt.legend(['ham','spam'])"
      ],
      "execution_count": null,
      "outputs": [
        {
          "output_type": "execute_result",
          "data": {
            "text/plain": [
              "<matplotlib.legend.Legend at 0x7f811c305350>"
            ]
          },
          "metadata": {
            "tags": []
          },
          "execution_count": 11
        },
        {
          "output_type": "display_data",
          "data": {
            "text/plain": [
              "<Figure size 432x288 with 1 Axes>"
            ],
            "image/png": "[encoded data removed]"
          },
          "metadata": {
            "tags": [],
            "needs_background": "light"
          }
        }
      ]
    },
    {
      "cell_type": "code",
      "metadata": {
        "execution": {
          "iopub.status.busy": "2021-07-22T14:16:34.146126Z",
          "iopub.execute_input": "2021-07-22T14:16:34.146655Z",
          "iopub.status.idle": "2021-07-22T14:16:34.155120Z",
          "shell.execute_reply.started": "2021-07-22T14:16:34.146618Z",
          "shell.execute_reply": "2021-07-22T14:16:34.154195Z"
        },
        "trusted": true,
        "id": "HLZriYElpX7t",
        "outputId": "c3998636-18ab-4161-814a-05368f3a2ef5"
      },
      "source": [
        "import string\n",
        "\n",
        "def remove_punct(text):\n",
        "    new_text = ''\n",
        "    for char in text:\n",
        "        if char in string.punctuation:\n",
        "            continue\n",
        "        else:\n",
        "            new_text += char\n",
        "    return new_text\n",
        "\n",
        "\n",
        "single_message = sms['message'][0]\n",
        "\n",
        "print('message before removing the punctuation:')\n",
        "print('\\n')\n",
        "print(single_message)\n",
        "print('\\n')\n",
        "print('message after removing the punctuation:')\n",
        "print()\n",
        "print(remove_punct(single_message))"
      ],
      "execution_count": null,
      "outputs": [
        {
          "output_type": "stream",
          "text": [
            "message before removing the punctuation:\n",
            "\n",
            "\n",
            "Go until jurong point, crazy.. Available only in bugis n great world la e buffet... Cine there got amore wat...\n",
            "\n",
            "\n",
            "message after removing the punctuation:\n",
            "\n",
            "Go until jurong point crazy Available only in bugis n great world la e buffet Cine there got amore wat\n"
          ],
          "name": "stdout"
        }
      ]
    },
    {
      "cell_type": "code",
      "metadata": {
        "execution": {
          "iopub.status.busy": "2021-07-22T14:16:36.836353Z",
          "iopub.execute_input": "2021-07-22T14:16:36.836739Z",
          "iopub.status.idle": "2021-07-22T14:16:36.931439Z",
          "shell.execute_reply.started": "2021-07-22T14:16:36.836706Z",
          "shell.execute_reply": "2021-07-22T14:16:36.930420Z"
        },
        "trusted": true,
        "id": "mRMl_XlnpX7u"
      },
      "source": [
        "sms['message'] = sms['message'].apply(remove_punct)"
      ],
      "execution_count": null,
      "outputs": []
    },
    {
      "cell_type": "code",
      "metadata": {
        "id": "z5X5cobQqSdK"
      },
      "source": [
        "from nltk.stem.porter import PorterStemmer"
      ],
      "execution_count": null,
      "outputs": []
    },
    {
      "cell_type": "code",
      "metadata": {
        "execution": {
          "iopub.status.busy": "2021-07-22T14:16:38.960927Z",
          "iopub.execute_input": "2021-07-22T14:16:38.961475Z",
          "iopub.status.idle": "2021-07-22T14:16:39.540412Z",
          "shell.execute_reply.started": "2021-07-22T14:16:38.961442Z",
          "shell.execute_reply": "2021-07-22T14:16:39.539291Z"
        },
        "trusted": true,
        "id": "yV-UNNnPpX7v",
        "outputId": "f3875f1d-b3bd-4c31-cec4-2e9671ca4769"
      },
      "source": [
        "p_stemmer = PorterStemmer()\n",
        "\n",
        "def stemming(text):\n",
        "    text = text.split(' ') \n",
        "    text = [p_stemmer.stem(word) for word in text]\n",
        "    \n",
        "    return text\n",
        "    \n",
        "single_message = sms['message'][4]\n",
        "\n",
        "print('message before stemming:')\n",
        "print('\\n')\n",
        "print(single_message)\n",
        "print('\\n')\n",
        "print('message after stemming:')\n",
        "print()\n",
        "print(stemming(single_message))"
      ],
      "execution_count": null,
      "outputs": [
        {
          "output_type": "stream",
          "text": [
            "message before stemming:\n",
            "\n",
            "\n",
            "Nah I dont think he goes to usf he lives around here though\n",
            "\n",
            "\n",
            "message after stemming:\n",
            "\n",
            "['nah', 'I', 'dont', 'think', 'he', 'goe', 'to', 'usf', 'he', 'live', 'around', 'here', 'though']\n"
          ],
          "name": "stdout"
        }
      ]
    },
    {
      "cell_type": "markdown",
      "metadata": {
        "id": "EAB-xE8tpX7v"
      },
      "source": [
        "Check how 'goes' became 'goe' and 'lives' became 'live'. We will keep the message in the form of list for sometime. We will convert it back to text for creating the model"
      ]
    },
    {
      "cell_type": "code",
      "metadata": {
        "execution": {
          "iopub.status.busy": "2021-07-22T14:16:42.075710Z",
          "iopub.execute_input": "2021-07-22T14:16:42.076131Z",
          "iopub.status.idle": "2021-07-22T14:16:44.057483Z",
          "shell.execute_reply.started": "2021-07-22T14:16:42.076097Z",
          "shell.execute_reply": "2021-07-22T14:16:44.056473Z"
        },
        "trusted": true,
        "id": "Pv21kUKspX7w"
      },
      "source": [
        "sms['message'] = sms['message'].apply(stemming)"
      ],
      "execution_count": null,
      "outputs": []
    },
    {
      "cell_type": "code",
      "metadata": {
        "id": "jERLx3R4qbLg"
      },
      "source": [
        "from nltk.corpus import stopwords"
      ],
      "execution_count": null,
      "outputs": []
    },
    {
      "cell_type": "code",
      "metadata": {
        "execution": {
          "iopub.status.busy": "2021-07-22T14:16:45.064165Z",
          "iopub.execute_input": "2021-07-22T14:16:45.064550Z",
          "iopub.status.idle": "2021-07-22T14:16:45.106030Z",
          "shell.execute_reply.started": "2021-07-22T14:16:45.064493Z",
          "shell.execute_reply": "2021-07-22T14:16:45.104821Z"
        },
        "trusted": true,
        "id": "Jc_aDEeVpX7x",
        "outputId": "8689c060-7d79-42b2-a703-9601c41887b2"
      },
      "source": [
        "def remove_stopwords(text):\n",
        "    text = [word for word in text if word not in stopwords.words('english')]\n",
        "    \n",
        "    \n",
        "    return ' '.join(text)\n",
        "\n",
        "\n",
        "single_message = sms['message'][4]\n",
        "\n",
        "print('message before removing the stopwords:')\n",
        "print('\\n')\n",
        "print(single_message)\n",
        "print('\\n')\n",
        "print('message after removing the stopwords:')\n",
        "print()\n",
        "print(remove_stopwords(single_message))"
      ],
      "execution_count": null,
      "outputs": [
        {
          "output_type": "stream",
          "text": [
            "message before removing the stopwords:\n",
            "\n",
            "\n",
            "['nah', 'I', 'dont', 'think', 'he', 'goe', 'to', 'usf', 'he', 'live', 'around', 'here', 'though']\n",
            "\n",
            "\n",
            "message after removing the stopwords:\n",
            "\n",
            "nah I dont think goe usf live around though\n"
          ],
          "name": "stdout"
        }
      ]
    },
    {
      "cell_type": "code",
      "metadata": {
        "execution": {
          "iopub.status.busy": "2021-07-22T14:16:47.973588Z",
          "iopub.execute_input": "2021-07-22T14:16:47.973982Z",
          "iopub.status.idle": "2021-07-22T14:16:58.658002Z",
          "shell.execute_reply.started": "2021-07-22T14:16:47.973942Z",
          "shell.execute_reply": "2021-07-22T14:16:58.657151Z"
        },
        "trusted": true,
        "id": "eE0_4MirpX7x"
      },
      "source": [
        "sms['message'] = sms['message'].apply(remove_stopwords)"
      ],
      "execution_count": null,
      "outputs": []
    },
    {
      "cell_type": "code",
      "metadata": {
        "execution": {
          "iopub.status.busy": "2021-07-22T14:17:03.236782Z",
          "iopub.execute_input": "2021-07-22T14:17:03.237168Z",
          "iopub.status.idle": "2021-07-22T14:17:03.247373Z",
          "shell.execute_reply.started": "2021-07-22T14:17:03.237131Z",
          "shell.execute_reply": "2021-07-22T14:17:03.246158Z"
        },
        "trusted": true,
        "id": "IE-j0xkwpX7y"
      },
      "source": [
        "from sklearn.model_selection import train_test_split\n",
        "\n",
        "from sklearn.linear_model import LogisticRegression\n",
        "from sklearn.naive_bayes import MultinomialNB\n",
        "from sklearn.svm import LinearSVC\n",
        "\n",
        "from sklearn.feature_extraction.text import TfidfVectorizer\n",
        "\n",
        "from sklearn.pipeline import Pipeline\n",
        "\n",
        "from sklearn.metrics import accuracy_score,classification_report,confusion_matrix"
      ],
      "execution_count": null,
      "outputs": []
    },
    {
      "cell_type": "code",
      "metadata": {
        "execution": {
          "iopub.status.busy": "2021-07-22T14:17:06.135610Z",
          "iopub.execute_input": "2021-07-22T14:17:06.136004Z",
          "iopub.status.idle": "2021-07-22T14:17:06.144783Z",
          "shell.execute_reply.started": "2021-07-22T14:17:06.135971Z",
          "shell.execute_reply": "2021-07-22T14:17:06.143417Z"
        },
        "trusted": true,
        "id": "zcJzLr0xpX7z"
      },
      "source": [
        "X = sms['message']\n",
        "y = sms['label']\n",
        "\n",
        "encoded_y = pd.get_dummies(y,drop_first=True).values.reshape(-1,)"
      ],
      "execution_count": null,
      "outputs": []
    },
    {
      "cell_type": "code",
      "metadata": {
        "execution": {
          "iopub.status.busy": "2021-07-22T14:17:08.302200Z",
          "iopub.execute_input": "2021-07-22T14:17:08.302621Z",
          "iopub.status.idle": "2021-07-22T14:17:08.310323Z",
          "shell.execute_reply.started": "2021-07-22T14:17:08.302584Z",
          "shell.execute_reply": "2021-07-22T14:17:08.309494Z"
        },
        "trusted": true,
        "id": "3ViXoc2IpX70"
      },
      "source": [
        "X_train,X_test,y_train,y_test = train_test_split(X,encoded_y,test_size=0.25)"
      ],
      "execution_count": null,
      "outputs": []
    },
    {
      "cell_type": "code",
      "metadata": {
        "execution": {
          "iopub.status.busy": "2021-07-22T14:17:09.936373Z",
          "iopub.execute_input": "2021-07-22T14:17:09.936880Z",
          "iopub.status.idle": "2021-07-22T14:17:10.114964Z",
          "shell.execute_reply.started": "2021-07-22T14:17:09.936848Z",
          "shell.execute_reply": "2021-07-22T14:17:10.114103Z"
        },
        "trusted": true,
        "id": "zVvaaNuppX71",
        "outputId": "6802341c-c116-4327-af36-21603da298e2"
      },
      "source": [
        "logistic = Pipeline([\n",
        "    ('vector',TfidfVectorizer()),\n",
        "    ('classifier',LogisticRegression())\n",
        "])\n",
        "\n",
        "logistic.fit(X_train,y_train)"
      ],
      "execution_count": null,
      "outputs": [
        {
          "output_type": "execute_result",
          "data": {
            "text/plain": [
              "Pipeline(steps=[('vector', TfidfVectorizer()),\n",
              "                ('classifier', LogisticRegression())])"
            ]
          },
          "metadata": {
            "tags": []
          },
          "execution_count": 21
        }
      ]
    },
    {
      "cell_type": "code",
      "metadata": {
        "execution": {
          "iopub.status.busy": "2021-07-22T14:17:11.506888Z",
          "iopub.execute_input": "2021-07-22T14:17:11.507390Z",
          "iopub.status.idle": "2021-07-22T14:17:11.536115Z",
          "shell.execute_reply.started": "2021-07-22T14:17:11.507358Z",
          "shell.execute_reply": "2021-07-22T14:17:11.535357Z"
        },
        "trusted": true,
        "id": "uyCuVmKKpX71"
      },
      "source": [
        "predict_log = logistic.predict(X_test)"
      ],
      "execution_count": null,
      "outputs": []
    },
    {
      "cell_type": "code",
      "metadata": {
        "execution": {
          "iopub.status.busy": "2021-07-22T14:24:21.427823Z",
          "iopub.execute_input": "2021-07-22T14:24:21.428220Z",
          "iopub.status.idle": "2021-07-22T14:24:21.623941Z",
          "shell.execute_reply.started": "2021-07-22T14:24:21.428189Z",
          "shell.execute_reply": "2021-07-22T14:24:21.622866Z"
        },
        "trusted": true,
        "id": "TsUym5tppX72",
        "outputId": "7c7a07f1-41d4-486e-8ac8-94993e7de730"
      },
      "source": [
        "acc_log = accuracy_score(y_test,predict_log)\n",
        "print(f\"Accuracy of logistic model is {np.round(acc_log*100,2)}%\")\n",
        "print('\\n')\n",
        "print(classification_report(y_test,predict_log))\n",
        "print('\\n')\n",
        "\n",
        "ax=plt.subplot()\n",
        "sns.heatmap(confusion_matrix(y_test,predict_log),annot = True,cmap='flare',fmt='g',ax=ax)\n",
        "\n",
        "ax.xaxis.set_ticklabels(['ham', 'spam'])\n",
        "ax.yaxis.set_ticklabels(['ham', 'spam'])"
      ],
      "execution_count": null,
      "outputs": [
        {
          "output_type": "stream",
          "text": [
            "Accuracy of logistic model is 95.55%\n",
            "\n",
            "\n",
            "              precision    recall  f1-score   support\n",
            "\n",
            "           0       0.95      1.00      0.97      1192\n",
            "           1       0.98      0.71      0.82       201\n",
            "\n",
            "    accuracy                           0.96      1393\n",
            "   macro avg       0.97      0.85      0.90      1393\n",
            "weighted avg       0.96      0.96      0.95      1393\n",
            "\n",
            "\n",
            "\n"
          ],
          "name": "stdout"
        },
        {
          "output_type": "execute_result",
          "data": {
            "text/plain": [
              "[Text(0, 0.5, 'ham'), Text(0, 1.5, 'spam')]"
            ]
          },
          "metadata": {
            "tags": []
          },
          "execution_count": 33
        },
        {
          "output_type": "display_data",
          "data": {
            "text/plain": [
              "<Figure size 432x288 with 2 Axes>"
            ],
            "image/png": "[encoded data removed]"
          },
          "metadata": {
            "tags": [],
            "needs_background": "light"
          }
        }
      ]
    },
    {
      "cell_type": "code",
      "metadata": {
        "execution": {
          "iopub.status.busy": "2021-07-22T14:17:16.388684Z",
          "iopub.execute_input": "2021-07-22T14:17:16.389082Z",
          "iopub.status.idle": "2021-07-22T14:17:16.482675Z",
          "shell.execute_reply.started": "2021-07-22T14:17:16.389050Z",
          "shell.execute_reply": "2021-07-22T14:17:16.481586Z"
        },
        "trusted": true,
        "id": "svHpL7supX72",
        "outputId": "70cb8c10-3ecd-4a9e-d529-68bbdcf50c0b"
      },
      "source": [
        "naive = Pipeline([\n",
        "    ('vector',TfidfVectorizer()),\n",
        "    ('classifier',MultinomialNB())\n",
        "])\n",
        "\n",
        "naive.fit(X_train,y_train)"
      ],
      "execution_count": null,
      "outputs": [
        {
          "output_type": "execute_result",
          "data": {
            "text/plain": [
              "Pipeline(steps=[('vector', TfidfVectorizer()), ('classifier', MultinomialNB())])"
            ]
          },
          "metadata": {
            "tags": []
          },
          "execution_count": 24
        }
      ]
    },
    {
      "cell_type": "code",
      "metadata": {
        "execution": {
          "iopub.status.busy": "2021-07-22T14:17:18.325044Z",
          "iopub.execute_input": "2021-07-22T14:17:18.325388Z",
          "iopub.status.idle": "2021-07-22T14:17:18.355809Z",
          "shell.execute_reply.started": "2021-07-22T14:17:18.325360Z",
          "shell.execute_reply": "2021-07-22T14:17:18.354836Z"
        },
        "trusted": true,
        "id": "jkxeaMmwpX72"
      },
      "source": [
        "predict_naive = naive.predict(X_test)"
      ],
      "execution_count": null,
      "outputs": []
    },
    {
      "cell_type": "code",
      "metadata": {
        "execution": {
          "iopub.status.busy": "2021-07-22T14:25:01.522973Z",
          "iopub.execute_input": "2021-07-22T14:25:01.523371Z",
          "iopub.status.idle": "2021-07-22T14:25:01.726601Z",
          "shell.execute_reply.started": "2021-07-22T14:25:01.523342Z",
          "shell.execute_reply": "2021-07-22T14:25:01.725445Z"
        },
        "trusted": true,
        "id": "n-b1ztnCpX73",
        "outputId": "0b7c1996-b890-4e10-e1e4-075c0481f081"
      },
      "source": [
        "acc_naive = accuracy_score(y_test,predict_log)\n",
        "print(f\"Accuracy of naive bayes model is {np.round(acc_naive*100,2)}%\")\n",
        "print('\\n')\n",
        "print(classification_report(y_test,predict_naive))\n",
        "print('\\n')\n",
        "\n",
        "ax=plt.subplot()\n",
        "sns.heatmap(confusion_matrix(y_test,predict_naive),annot = True,cmap='flare',fmt='g',ax=ax)\n",
        "\n",
        "ax.xaxis.set_ticklabels(['ham', 'spam'])\n",
        "ax.yaxis.set_ticklabels(['ham', 'spam'])"
      ],
      "execution_count": null,
      "outputs": [
        {
          "output_type": "stream",
          "text": [
            "Accuracy of naive bayes model is 95.55%\n",
            "\n",
            "\n",
            "              precision    recall  f1-score   support\n",
            "\n",
            "           0       0.95      1.00      0.97      1192\n",
            "           1       1.00      0.66      0.79       201\n",
            "\n",
            "    accuracy                           0.95      1393\n",
            "   macro avg       0.97      0.83      0.88      1393\n",
            "weighted avg       0.95      0.95      0.95      1393\n",
            "\n",
            "\n",
            "\n"
          ],
          "name": "stdout"
        },
        {
          "output_type": "execute_result",
          "data": {
            "text/plain": [
              "[Text(0, 0.5, 'ham'), Text(0, 1.5, 'spam')]"
            ]
          },
          "metadata": {
            "tags": []
          },
          "execution_count": 34
        },
        {
          "output_type": "display_data",
          "data": {
            "text/plain": [
              "<Figure size 432x288 with 2 Axes>"
            ],
            "image/png": "[encoded data removed]"
          },
          "metadata": {
            "tags": [],
            "needs_background": "light"
          }
        }
      ]
    },
    {
      "cell_type": "code",
      "metadata": {
        "execution": {
          "iopub.status.busy": "2021-07-22T14:23:06.372712Z",
          "iopub.execute_input": "2021-07-22T14:23:06.373116Z",
          "iopub.status.idle": "2021-07-22T14:23:06.478032Z",
          "shell.execute_reply.started": "2021-07-22T14:23:06.373085Z",
          "shell.execute_reply": "2021-07-22T14:23:06.477066Z"
        },
        "trusted": true,
        "id": "0x8X8iS2pX75",
        "outputId": "c94c7341-0d8f-4a1d-850c-f9fa248c1ed0"
      },
      "source": [
        "svc = Pipeline([\n",
        "    ('vector',TfidfVectorizer()),\n",
        "    ('classifier',LinearSVC())\n",
        "])\n",
        "\n",
        "svc.fit(X_train,y_train)"
      ],
      "execution_count": null,
      "outputs": [
        {
          "output_type": "execute_result",
          "data": {
            "text/plain": [
              "Pipeline(steps=[('vector', TfidfVectorizer()), ('classifier', LinearSVC())])"
            ]
          },
          "metadata": {
            "tags": []
          },
          "execution_count": 30
        }
      ]
    },
    {
      "cell_type": "code",
      "metadata": {
        "execution": {
          "iopub.status.busy": "2021-07-22T14:23:07.913114Z",
          "iopub.execute_input": "2021-07-22T14:23:07.915060Z",
          "iopub.status.idle": "2021-07-22T14:23:07.950936Z",
          "shell.execute_reply.started": "2021-07-22T14:23:07.914997Z",
          "shell.execute_reply": "2021-07-22T14:23:07.949793Z"
        },
        "trusted": true,
        "id": "eCyTuQ4SpX75"
      },
      "source": [
        "predict_svc = svc.predict(X_test)"
      ],
      "execution_count": null,
      "outputs": []
    },
    {
      "cell_type": "code",
      "metadata": {
        "execution": {
          "iopub.status.busy": "2021-07-22T14:23:10.208973Z",
          "iopub.execute_input": "2021-07-22T14:23:10.209538Z",
          "iopub.status.idle": "2021-07-22T14:23:10.419115Z",
          "shell.execute_reply.started": "2021-07-22T14:23:10.209488Z",
          "shell.execute_reply": "2021-07-22T14:23:10.418323Z"
        },
        "trusted": true,
        "id": "1kXRgfuKpX77",
        "outputId": "b87ecdc7-4042-4e42-c259-745a86849163"
      },
      "source": [
        "acc_svc = accuracy_score(y_test,predict_svc)\n",
        "print(f\"Accuracy of svc model is {np.round(acc_svc*100,2)}%\")\n",
        "print('\\n')\n",
        "print(classification_report(y_test,predict_svc))\n",
        "print('\\n')\n",
        "\n",
        "ax=plt.subplot()\n",
        "sns.heatmap(confusion_matrix(y_test,predict_svc),annot = True,cmap='flare',fmt='g',ax=ax)\n",
        "\n",
        "ax.xaxis.set_ticklabels(['ham', 'spam'])\n",
        "ax.yaxis.set_ticklabels(['ham', 'spam'])"
      ],
      "execution_count": null,
      "outputs": [
        {
          "output_type": "stream",
          "text": [
            "Accuracy of svc model is 97.85%\n",
            "\n",
            "\n",
            "              precision    recall  f1-score   support\n",
            "\n",
            "           0       0.98      1.00      0.99      1192\n",
            "           1       0.98      0.87      0.92       201\n",
            "\n",
            "    accuracy                           0.98      1393\n",
            "   macro avg       0.98      0.93      0.95      1393\n",
            "weighted avg       0.98      0.98      0.98      1393\n",
            "\n",
            "\n",
            "\n"
          ],
          "name": "stdout"
        },
        {
          "output_type": "execute_result",
          "data": {
            "text/plain": [
              "[Text(0, 0.5, 'ham'), Text(0, 1.5, 'spam')]"
            ]
          },
          "metadata": {
            "tags": []
          },
          "execution_count": 32
        },
        {
          "output_type": "display_data",
          "data": {
            "text/plain": [
              "<Figure size 432x288 with 2 Axes>"
            ],
            "image/png": "[encoded data removed]"
          },
          "metadata": {
            "tags": [],
            "needs_background": "light"
          }
        }
      ]
    },
    {
      "cell_type": "code",
      "metadata": {
        "id": "geBsCVV3pX78"
      },
      "source": [
        ""
      ],
      "execution_count": null,
      "outputs": []
    }
  ]
}